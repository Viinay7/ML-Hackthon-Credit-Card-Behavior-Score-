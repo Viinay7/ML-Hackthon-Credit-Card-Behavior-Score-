{
 "cells": [
  {
   "cell_type": "markdown",
   "id": "0136b3a0",
   "metadata": {},
   "source": [
    "# Data Preparation"
   ]
  },
  {
   "cell_type": "code",
   "execution_count": 2,
   "id": "cb4fb65c",
   "metadata": {},
   "outputs": [
    {
     "name": "stdout",
     "output_type": "stream",
     "text": [
      "Development Data Preview:\n",
      "   account_number  bad_flag  onus_attribute_1  transaction_attribute_1  \\\n",
      "0               1         0               NaN                      NaN   \n",
      "1               2         0          221000.0                      0.0   \n",
      "2               3         0           25000.0                      0.0   \n",
      "3               4         0           86000.0                      0.0   \n",
      "4               5         0          215000.0                      0.0   \n",
      "\n",
      "   transaction_attribute_2  transaction_attribute_3  transaction_attribute_4  \\\n",
      "0                      NaN                      NaN                      NaN   \n",
      "1                      0.0                      0.0                      0.0   \n",
      "2                      0.0                      0.0                      0.0   \n",
      "3                      0.0                      0.0                      0.0   \n",
      "4                      0.0                      0.0                      0.0   \n",
      "\n",
      "   transaction_attribute_5  transaction_attribute_6  transaction_attribute_7  \\\n",
      "0                      NaN                      NaN                      NaN   \n",
      "1                      0.0                      0.0                      0.0   \n",
      "2                      0.0                      0.0                      0.0   \n",
      "3                      0.0                      0.0                      0.0   \n",
      "4                      0.0                      0.0                      0.0   \n",
      "\n",
      "   ...  bureau_enquiry_47  bureau_enquiry_48  bureau_enquiry_49  \\\n",
      "0  ...                0.0                0.0                0.0   \n",
      "1  ...                0.0                0.0                2.0   \n",
      "2  ...                0.0                0.0                0.0   \n",
      "3  ...                0.0                0.0                0.0   \n",
      "4  ...                0.0                0.0                0.0   \n",
      "\n",
      "   bureau_enquiry_50  onus_attribute_43  onus_attribute_44  onus_attribute_45  \\\n",
      "0                1.0                NaN                NaN                NaN   \n",
      "1                3.0                0.0                0.0                0.0   \n",
      "2                8.0                NaN                NaN                NaN   \n",
      "3               30.0                NaN                NaN                NaN   \n",
      "4                1.0                NaN                NaN                NaN   \n",
      "\n",
      "   onus_attribute_46  onus_attribute_47  onus_attribute_48  \n",
      "0                NaN                NaN                NaN  \n",
      "1                0.0                0.0                0.0  \n",
      "2                NaN                NaN                NaN  \n",
      "3                NaN                NaN                NaN  \n",
      "4                NaN                NaN                NaN  \n",
      "\n",
      "[5 rows x 1216 columns]\n",
      "\n",
      "Validation Data Preview:\n",
      "   account_number  onus_attribute_1  transaction_attribute_1  \\\n",
      "0          100001           34000.0                      0.0   \n",
      "1          100002               NaN                      NaN   \n",
      "2          100003          130000.0                      0.0   \n",
      "3          100004               NaN                      NaN   \n",
      "4          100005           53000.0                      0.0   \n",
      "\n",
      "   transaction_attribute_2  transaction_attribute_3  transaction_attribute_4  \\\n",
      "0                      0.0                      0.0                      0.0   \n",
      "1                      NaN                      NaN                      NaN   \n",
      "2                      0.0                      0.0                      0.0   \n",
      "3                      NaN                      NaN                      NaN   \n",
      "4                      0.0                      0.0                      0.0   \n",
      "\n",
      "   transaction_attribute_5  transaction_attribute_6  transaction_attribute_7  \\\n",
      "0                      0.0                      0.0                      0.0   \n",
      "1                      NaN                      NaN                      NaN   \n",
      "2                      0.0                      0.0                      0.0   \n",
      "3                      NaN                      NaN                      NaN   \n",
      "4                      0.0                      0.0                      0.0   \n",
      "\n",
      "   transaction_attribute_8  ...  bureau_enquiry_47  bureau_enquiry_48  \\\n",
      "0                      0.0  ...                0.0                0.0   \n",
      "1                      NaN  ...                0.0                0.0   \n",
      "2                      0.0  ...                0.0                2.0   \n",
      "3                      NaN  ...                0.0                0.0   \n",
      "4                      0.0  ...                0.0                0.0   \n",
      "\n",
      "   bureau_enquiry_49  bureau_enquiry_50  onus_attribute_43  onus_attribute_44  \\\n",
      "0                0.0               32.0                NaN                NaN   \n",
      "1                0.0                0.0                NaN                NaN   \n",
      "2                0.0               12.0                NaN                NaN   \n",
      "3                0.0                1.0                NaN                NaN   \n",
      "4                0.0               18.0                0.0                0.0   \n",
      "\n",
      "   onus_attribute_45  onus_attribute_46  onus_attribute_47  onus_attribute_48  \n",
      "0                NaN                NaN                NaN                NaN  \n",
      "1                NaN                NaN                NaN                NaN  \n",
      "2                NaN                NaN                NaN                NaN  \n",
      "3                NaN                NaN                NaN                NaN  \n",
      "4                0.0                0.0                0.0                0.0  \n",
      "\n",
      "[5 rows x 1215 columns]\n"
     ]
    }
   ],
   "source": [
    "import pandas as pd\n",
    "import numpy as np\n",
    "\n",
    "dev_data = pd.read_csv(\"C:/Users/viina/OneDrive/Desktop/Credit Card Behaviour Score/Dev_data_to_be_shared.csv\")\n",
    "val_data = pd.read_csv(\"C:/Users/viina/OneDrive/Desktop/Credit Card Behaviour Score/validation_data_to_be_shared.csv\")\n",
    "\n",
    "# Display the first few rows\n",
    "print(\"Development Data Preview:\")\n",
    "print(dev_data.head())\n",
    "\n",
    "print(\"\\nValidation Data Preview:\")\n",
    "print(val_data.head())\n"
   ]
  },
  {
   "cell_type": "markdown",
   "id": "41377261",
   "metadata": {},
   "source": [
    "# Inspect and Clean Data"
   ]
  },
  {
   "cell_type": "code",
   "execution_count": 3,
   "id": "b86f87fc",
   "metadata": {},
   "outputs": [
    {
     "name": "stdout",
     "output_type": "stream",
     "text": [
      "Missing values in development data:\n",
      "account_number                 0\n",
      "bad_flag                       0\n",
      "onus_attribute_1           25231\n",
      "transaction_attribute_1    25231\n",
      "transaction_attribute_2    25231\n",
      "                           ...  \n",
      "onus_attribute_44          85196\n",
      "onus_attribute_45          85196\n",
      "onus_attribute_46          85196\n",
      "onus_attribute_47          85196\n",
      "onus_attribute_48          85196\n",
      "Length: 1216, dtype: int64\n",
      "\n",
      "Missing values in validation data:\n",
      "account_number                 0\n",
      "onus_attribute_1           10990\n",
      "transaction_attribute_1    10990\n",
      "transaction_attribute_2    10990\n",
      "transaction_attribute_3    10990\n",
      "                           ...  \n",
      "onus_attribute_44          36789\n",
      "onus_attribute_45          36789\n",
      "onus_attribute_46          36789\n",
      "onus_attribute_47          36789\n",
      "onus_attribute_48          36789\n",
      "Length: 1215, dtype: int64\n"
     ]
    }
   ],
   "source": [
    "# Check for missing values\n",
    "print(\"Missing values in development data:\")\n",
    "print(dev_data.isnull().sum())\n",
    "\n",
    "print(\"\\nMissing values in validation data:\")\n",
    "print(val_data.isnull().sum())\n",
    "\n",
    "# Separate features and target in development data\n",
    "X = dev_data.drop(columns=[\"bad_flag\", \"account_number\"])\n",
    "y = dev_data[\"bad_flag\"]\n",
    "\n",
    "# Handle missing values by imputing with the mean\n",
    "X.fillna(X.mean(), inplace=True)\n",
    "val_X = val_data.drop(columns=[\"account_number\"])\n",
    "val_X.fillna(X.mean(), inplace=True)  # Use the same mean from training\n"
   ]
  },
  {
   "cell_type": "markdown",
   "id": "b356b220",
   "metadata": {},
   "source": [
    "# Split Data for Training and Testing"
   ]
  },
  {
   "cell_type": "code",
   "execution_count": 4,
   "id": "7fd8b6bb",
   "metadata": {},
   "outputs": [
    {
     "name": "stdout",
     "output_type": "stream",
     "text": [
      "Training set shape: (77444, 1214)\n",
      "Testing set shape: (19362, 1214)\n"
     ]
    }
   ],
   "source": [
    "from sklearn.model_selection import train_test_split\n",
    "\n",
    "# Split development data into training and testing sets\n",
    "X_train, X_test, y_train, y_test = train_test_split(\n",
    "    X, y, test_size=0.2, random_state=42, stratify=y\n",
    ")\n",
    "\n",
    "print(f\"Training set shape: {X_train.shape}\")\n",
    "print(f\"Testing set shape: {X_test.shape}\")\n"
   ]
  },
  {
   "cell_type": "markdown",
   "id": "6359c58e",
   "metadata": {},
   "source": [
    "# Model Development"
   ]
  },
  {
   "cell_type": "markdown",
   "id": "a505d83b",
   "metadata": {},
   "source": [
    "Train the XGBoost Model"
   ]
  },
  {
   "cell_type": "code",
   "execution_count": 6,
   "id": "2c77ea61",
   "metadata": {},
   "outputs": [
    {
     "name": "stdout",
     "output_type": "stream",
     "text": [
      "Collecting xgboost\n",
      "  Downloading xgboost-2.1.3-py3-none-win_amd64.whl (124.9 MB)\n",
      "     -------------------------------------- 124.9/124.9 MB 3.3 MB/s eta 0:00:00\n",
      "Requirement already satisfied: numpy in c:\\users\\viina\\anaconda3\\lib\\site-packages (from xgboost) (1.23.5)\n",
      "Requirement already satisfied: scipy in c:\\users\\viina\\anaconda3\\lib\\site-packages (from xgboost) (1.10.0)\n",
      "Installing collected packages: xgboost\n",
      "Successfully installed xgboost-2.1.3\n"
     ]
    }
   ],
   "source": [
    "!pip install xgboost\n"
   ]
  },
  {
   "cell_type": "code",
   "execution_count": 7,
   "id": "6454197d",
   "metadata": {},
   "outputs": [
    {
     "name": "stderr",
     "output_type": "stream",
     "text": [
      "C:\\Users\\viina\\anaconda3\\lib\\site-packages\\xgboost\\core.py:158: UserWarning: [19:55:49] WARNING: C:\\buildkite-agent\\builds\\buildkite-windows-cpu-autoscaling-group-i-0c55ff5f71b100e98-1\\xgboost\\xgboost-ci-windows\\src\\learner.cc:740: \n",
      "Parameters: { \"use_label_encoder\" } are not used.\n",
      "\n",
      "  warnings.warn(smsg, UserWarning)\n"
     ]
    },
    {
     "name": "stdout",
     "output_type": "stream",
     "text": [
      "Model training complete.\n"
     ]
    }
   ],
   "source": [
    "import xgboost as xgb\n",
    "\n",
    "# Initialize and train the XGBoost model\n",
    "xgb_model = xgb.XGBClassifier(\n",
    "    objective=\"binary:logistic\",\n",
    "    eval_metric=\"logloss\",\n",
    "    use_label_encoder=False,\n",
    "    learning_rate=0.1,\n",
    "    n_estimators=100,\n",
    "    max_depth=6,\n",
    "    subsample=0.8,\n",
    "    colsample_bytree=0.8,\n",
    "    scale_pos_weight=len(y_train[y_train == 0]) / len(y_train[y_train == 1]),\n",
    "    random_state=42\n",
    ")\n",
    "\n",
    "# Train the model\n",
    "xgb_model.fit(X_train, y_train)\n",
    "\n",
    "print(\"Model training complete.\")\n"
   ]
  },
  {
   "cell_type": "markdown",
   "id": "699142a2",
   "metadata": {},
   "source": [
    "Evaluate the Model"
   ]
  },
  {
   "cell_type": "code",
   "execution_count": 8,
   "id": "3ac0b012",
   "metadata": {},
   "outputs": [
    {
     "name": "stdout",
     "output_type": "stream",
     "text": [
      "Model Performance:\n",
      "ROC-AUC: 0.8177\n",
      "Log Loss: 0.2635\n"
     ]
    }
   ],
   "source": [
    "from sklearn.metrics import roc_auc_score, log_loss\n",
    "\n",
    "# Predict probabilities on the testing set\n",
    "y_pred_proba = xgb_model.predict_proba(X_test)[:, 1]\n",
    "\n",
    "# Calculate evaluation metrics\n",
    "roc_auc = roc_auc_score(y_test, y_pred_proba)\n",
    "logloss = log_loss(y_test, y_pred_proba)\n",
    "\n",
    "print(f\"Model Performance:\\nROC-AUC: {roc_auc:.4f}\\nLog Loss: {logloss:.4f}\")\n"
   ]
  },
  {
   "cell_type": "markdown",
   "id": "41c00a85",
   "metadata": {},
   "source": [
    "#  Validation and Prediction"
   ]
  },
  {
   "cell_type": "markdown",
   "id": "2dd5cb16",
   "metadata": {},
   "source": [
    "Predict on Validation Data"
   ]
  },
  {
   "cell_type": "code",
   "execution_count": 15,
   "id": "51c5f381",
   "metadata": {},
   "outputs": [
    {
     "name": "stdout",
     "output_type": "stream",
     "text": [
      "Predictions saved to 'validation_predictions.csv' with account_number in Column A and predicted_probability in Column B.\n"
     ]
    }
   ],
   "source": [
    "# Round the predicted probabilities to 3 decimals\n",
    "val_data[\"predicted_probability\"] = val_data[\"predicted_probability\"].round(3)\n",
    "\n",
    "# Save the data to CSV with two columns\n",
    "val_data[[\"account_number\", \"predicted_probability\"]].to_csv(\"validation_predictions.csv\", index=False)\n",
    "\n",
    "print(\"Predictions saved to 'validation_predictions.csv' with account_number in Column A and predicted_probability in Column B.\")\n"
   ]
  },
  {
   "cell_type": "markdown",
   "id": "98ba4b97",
   "metadata": {},
   "source": [
    " Save Predictions"
   ]
  },
  {
   "cell_type": "code",
   "execution_count": 16,
   "id": "9877e621",
   "metadata": {},
   "outputs": [
    {
     "name": "stdout",
     "output_type": "stream",
     "text": [
      "Predictions saved to 'validation_predictions.csv'.\n"
     ]
    }
   ],
   "source": [
    "# Save predictions to a CSV file\n",
    "val_data[[\"account_number\", \"predicted_probability\"]].to_csv(\"validation_predictions.csv\", index=False)\n",
    "\n",
    "print(\"Predictions saved to 'validation_predictions.csv'.\")\n"
   ]
  },
  {
   "cell_type": "code",
   "execution_count": 17,
   "id": "b9226407",
   "metadata": {},
   "outputs": [
    {
     "name": "stdout",
     "output_type": "stream",
     "text": [
      "Current Working Directory: C:\\Users\\viina\n"
     ]
    }
   ],
   "source": [
    "import os\n",
    "print(\"Current Working Directory:\", os.getcwd())\n"
   ]
  },
  {
   "cell_type": "code",
   "execution_count": 18,
   "id": "1c048046",
   "metadata": {},
   "outputs": [
    {
     "name": "stdout",
     "output_type": "stream",
     "text": [
      "Prediction file found!\n"
     ]
    }
   ],
   "source": [
    "import os\n",
    "\n",
    "# Check if the file is in the working directory\n",
    "if \"validation_predictions.csv\" in os.listdir():\n",
    "    print(\"Prediction file found!\")\n",
    "else:\n",
    "    print(\"Prediction file not found. Check your working directory.\")\n"
   ]
  },
  {
   "cell_type": "code",
   "execution_count": 20,
   "id": "ee572333",
   "metadata": {},
   "outputs": [
    {
     "data": {
      "text/html": [
       "<a href='validation_predictions.csv' target='_blank'>validation_predictions.csv</a><br>"
      ],
      "text/plain": [
       "C:\\Users\\viina\\validation_predictions.csv"
      ]
     },
     "execution_count": 20,
     "metadata": {},
     "output_type": "execute_result"
    }
   ],
   "source": [
    "from IPython.display import FileLink\n",
    "\n",
    "# Provide a link to the file\n",
    "FileLink(\"validation_predictions.csv\")\n"
   ]
  },
  {
   "cell_type": "code",
   "execution_count": null,
   "id": "3d2e2798",
   "metadata": {},
   "outputs": [],
   "source": []
  }
 ],
 "metadata": {
  "kernelspec": {
   "display_name": "Python 3 (ipykernel)",
   "language": "python",
   "name": "python3"
  },
  "language_info": {
   "codemirror_mode": {
    "name": "ipython",
    "version": 3
   },
   "file_extension": ".py",
   "mimetype": "text/x-python",
   "name": "python",
   "nbconvert_exporter": "python",
   "pygments_lexer": "ipython3",
   "version": "3.10.9"
  }
 },
 "nbformat": 4,
 "nbformat_minor": 5
}
